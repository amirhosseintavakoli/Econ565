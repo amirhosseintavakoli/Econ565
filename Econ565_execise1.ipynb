{
 "cells": [
  {
   "cell_type": "markdown",
   "metadata": {},
   "source": [
    "Exercise 1: Assume we have $N$ individual and J products in a market. $X_{ij}$ is the characteristic of product j for individual i. $J_i$ is the choice of individual i among the products. \n",
    "\n",
    "To generate the data, I assume $u_{ij} = \\beta_0 + \\beta_1X_j + \\epsilon_{ij}$ where $X_j$ is created as independent standard normal random variables, $\\epsilon_{ij}$ follows a T1EV, $\\beta_0 = 5$ and $\\beta_1 = 2$."
   ]
  },
  {
   "cell_type": "code",
   "execution_count": 33,
   "metadata": {},
   "outputs": [
    {
     "name": "stdout",
     "output_type": "stream",
     "text": [
      "\u001b[32m\u001b[1m Resolving\u001b[22m\u001b[39m package versions...\n",
      "\u001b[32m\u001b[1m  Updating\u001b[22m\u001b[39m `~/Project.toml`\n",
      "\u001b[90m [no changes]\u001b[39m\n",
      "\u001b[32m\u001b[1m  Updating\u001b[22m\u001b[39m `~/Manifest.toml`\n",
      "\u001b[90m [no changes]\u001b[39m\n"
     ]
    }
   ],
   "source": [
    "# See the below link for Distribution\n",
    "# https://juliastats.github.io/Distributions.jl/stable/starting/\n",
    "\n",
    "Pkg.add(\"Distributions\")\n",
    "using LinearAlgebra\n",
    "using Random, Distributions\n"
   ]
  },
  {
   "cell_type": "code",
   "execution_count": 37,
   "metadata": {},
   "outputs": [
    {
     "data": {
      "text/plain": [
       "300×5 Array{Float64,2}:\n",
       " 3.90574  2.79003  2.00856   1.43804    0.554162 \n",
       " 3.19416  4.74665  0.800837  1.29867    0.264042 \n",
       " 2.67082  6.3724   5.06831   1.49991   -0.0421086\n",
       " 1.40145  3.52802  2.3419    2.97349    3.68593  \n",
       " 2.94666  3.22067  2.04728   1.9406     1.20417  \n",
       " 2.03065  3.76649  1.9791    2.25355    4.14641  \n",
       " 1.84724  2.9471   2.89981   1.22447    1.29086  \n",
       " 1.83928  6.58527  3.036     2.55685    0.550866 \n",
       " 4.10114  2.99565  2.71211   0.112594   2.23358  \n",
       " 3.21944  4.31196  1.40082   0.901441   0.352027 \n",
       " 2.42526  3.84837  1.35632   0.405072   1.60445  \n",
       " 3.12666  5.83045  1.87242   2.56852    0.461131 \n",
       " 2.66725  6.79904  1.4101    2.22404    0.350511 \n",
       " ⋮                                               \n",
       " 2.40875  4.11995  2.87331   0.658679   0.250351 \n",
       " 2.77753  4.47289  1.82827   0.264549   1.48889  \n",
       " 2.67437  3.61717  0.242352  2.50728    3.25639  \n",
       " 3.51111  3.47687  0.979932  2.31273    3.08166  \n",
       " 3.17361  6.81555  2.1185    2.82601    1.30986  \n",
       " 1.5734   3.06504  1.32803   0.801383   1.75322  \n",
       " 2.9623   6.97473  2.06792   0.312889  -0.642145 \n",
       " 1.93989  5.5111   2.51326   2.10813   -0.430749 \n",
       " 3.34777  7.29552  5.34082   2.03949    0.950747 \n",
       " 4.57603  2.90638  2.01926   1.29938    0.104431 \n",
       " 2.45581  4.23137  6.58782   1.03299    2.74403  \n",
       " 2.27539  4.45518  3.9072    2.70522    1.24807  "
      ]
     },
     "execution_count": 37,
     "metadata": {},
     "output_type": "execute_result"
    }
   ],
   "source": [
    "# Parameters\n",
    "J = 5 #Number of products\n",
    "N = 300 #Number of individuals\n",
    "T = 200 #Grid size\n",
    "Scaler = 100 #Scaler\n",
    "β_0 = 1\n",
    "β_1 = 1\n",
    "d = Gumbel() # or we can use d = Normal()\n",
    "# Variables\n",
    "Random.seed!(123) #Setting the seed\n",
    "X = [ones(J)  rand(d, J)]\n",
    "δ = [β_0 β_1]*X'\n",
    "Random.seed!(7) #Setting the seed\n",
    "ϵ = rand(d, N , J)\n",
    "u = δ .+ ϵ"
   ]
  },
  {
   "cell_type": "code",
   "execution_count": 38,
   "metadata": {},
   "outputs": [
    {
     "data": {
      "text/plain": [
       "1×5 Array{Float64,2}:\n",
       " 0.166667  0.653333  0.09  0.04  0.05"
      ]
     },
     "execution_count": 38,
     "metadata": {},
     "output_type": "execute_result"
    }
   ],
   "source": [
    "u_max, ind = findmax(u, dims = 2)\n",
    "ind\n",
    "choice_mat = (u .>= u_max)\n",
    "s = sum( choice_mat, dims = 1)/N"
   ]
  },
  {
   "cell_type": "markdown",
   "metadata": {},
   "source": [
    "The probability that individual i chooses product j is\n",
    "$$\n",
    "P( i~chooses~j) = \\frac{exp(\\delta_j)}{\\Sigma_{k \\in J}~exp(\\delta_k)}\n",
    "$$\n",
    "Therefore, the maximum likelihood estimator is\n",
    "$$\n",
    "L = \\Pi_{i=1}^N\\Pi_{j=1}^J~P(i->j)^{1(J_i == j)}\n",
    "$$\n",
    "and the log-likelihood function is\n",
    "$$\n",
    "logL = \\Sigma_{i=1}^N\\Sigma_{j=1}^J~1(J_i == j)\\{log(P(i->j))\\}\n",
    "$$"
   ]
  },
  {
   "cell_type": "code",
   "execution_count": 39,
   "metadata": {},
   "outputs": [
    {
     "data": {
      "text/plain": [
       "(183.54579335032867, CartesianIndex(1, 199))"
      ]
     },
     "execution_count": 39,
     "metadata": {},
     "output_type": "execute_result"
    }
   ],
   "source": [
    "L = zeros(T-1 , T-1)\n",
    "for b_0 = 1:T-1\n",
    "    for b_1 = 1:T-1\n",
    "        P_nom = exp.( [b_0/Scaler  b_1/Scaler]*X' )\n",
    "        P_sum = sum( P_nom )\n",
    "        P = P_nom/ P_sum\n",
    "        L[b_0,b_1] = sum( choice_mat * P')\n",
    "    end\n",
    "end\n",
    "findmax(L)"
   ]
  },
  {
   "cell_type": "markdown",
   "metadata": {},
   "source": [
    "I have to compute the log likelihood function for each value of b0 and b1 which means I should multiply choice_mat with probs and take the summation and keep the max. Then repeat the whole process 100 times to find the average b0 and b1 the its variance."
   ]
  },
  {
   "cell_type": "code",
   "execution_count": null,
   "metadata": {},
   "outputs": [],
   "source": []
  }
 ],
 "metadata": {
  "kernelspec": {
   "display_name": "Julia 1.2.0",
   "language": "julia",
   "name": "julia-1.2"
  },
  "language_info": {
   "file_extension": ".jl",
   "mimetype": "application/julia",
   "name": "julia",
   "version": "1.2.0"
  }
 },
 "nbformat": 4,
 "nbformat_minor": 4
}
