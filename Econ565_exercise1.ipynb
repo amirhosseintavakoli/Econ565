{
 "cells": [
  {
   "cell_type": "markdown",
   "metadata": {},
   "source": [
    "Exercise 1: Assume we have $N$ individual and $J$ products in a market. $X_{ij}$ is the characteristic of product $j$ for individual $i$. $J_i$ is the choice of individual $i$ among the products. \n",
    "\n",
    "To generate the data, I assume $u_{ij} = X'_{j}\\beta + \\epsilon_{ij}$ where $X_j$ is created as independent standard normal random variables, $\\epsilon_{ij}$ follows a T1EV, $\\beta' = (5 , 2)$."
   ]
  },
  {
   "cell_type": "code",
   "execution_count": 143,
   "metadata": {},
   "outputs": [],
   "source": [
    "# See the below link for Distribution\n",
    "# https://juliastats.github.io/Distributions.jl/stable/starting/\n",
    "using LinearAlgebra\n",
    "using Random, Distributions\n",
    "using Optim"
   ]
  },
  {
   "cell_type": "code",
   "execution_count": 137,
   "metadata": {},
   "outputs": [],
   "source": [
    "# Parameters\n",
    "\n",
    "J = 5 #Number of products\n",
    "N = 500 #Number of individuals\n",
    "Jchar = 2 #Number of product characteristics\n",
    "iter = 100 #Number of iterations\n",
    "β = [5 ; 2];"
   ]
  },
  {
   "cell_type": "code",
   "execution_count": 146,
   "metadata": {},
   "outputs": [
    {
     "data": {
      "text/plain": [
       "loglikelihood (generic function with 1 method)"
      ]
     },
     "execution_count": 146,
     "metadata": {},
     "output_type": "execute_result"
    }
   ],
   "source": [
    "# Data Generating Process dgp\n",
    "function dgp(i)\n",
    "    # Variables\n",
    "    Random.seed!(100 + i) #Setting the seed\n",
    "    X = rand(J, Jchar)\n",
    "    return X\n",
    "end\n",
    "\n",
    "# Log Likelihood Function\n",
    "function loglikelihood(β)\n",
    "    P_nom = exp.( X*β )\n",
    "    P = P_nom ./ sum( P_nom )\n",
    "    L = sum( choice_mat' * log.(P) )\n",
    "    \n",
    "    return -L\n",
    "end"
   ]
  },
  {
   "cell_type": "markdown",
   "metadata": {},
   "source": [
    "The probability that individual i chooses product j is\n",
    "$$\n",
    "P( i~chooses~j) = \\frac{exp(\\delta_j)}{\\Sigma_{k \\in J}~exp(\\delta_k)}\n",
    "$$\n",
    "Therefore, the maximum likelihood estimator is\n",
    "$$\n",
    "L = \\Pi_{i=1}^N\\Pi_{j=1}^J~P(i->j)^{1(J_i == j)}\n",
    "$$\n",
    "and the log-likelihood function is\n",
    "$$\n",
    "logL = \\Sigma_{i=1}^N\\Sigma_{j=1}^J~1(J_i == j)\\{log(P(i->j))\\}\n",
    "$$\n",
    "\n",
    "I have to compute the log likelihood function for different value of $\\beta$ which means I should multiply choice_mat with probs and take the summation and keep the max. Then repeat the whole process 100 times to find the average $\\beta$ and its variance."
   ]
  },
  {
   "cell_type": "code",
   "execution_count": 165,
   "metadata": {},
   "outputs": [
    {
     "data": {
      "text/plain": [
       "2×100 Array{Float64,2}:\n",
       " 5.22646  5.31199  4.75858  4.63933  …  4.92204  4.36481  5.34319  5.06575\n",
       " 2.1823   2.47085  1.95198  1.86305     2.09587  1.80447  2.14303  1.89103"
      ]
     },
     "execution_count": 165,
     "metadata": {},
     "output_type": "execute_result"
    }
   ],
   "source": [
    "βhat = zeros(Jchar, iter)\n",
    "for i in 1:iter\n",
    "    \n",
    "# Computing Share of Products\n",
    "        X = dgp(i)\n",
    "        δ = X*β\n",
    "        d_2 = Gumbel() # or we can use d = Normal()\n",
    "        Random.seed!(101 + i) #Setting the seed\n",
    "        ϵ = rand(d_2, J , N)\n",
    "        u = δ .+ ϵ\n",
    "        u_max, ind = findmax(u, dims = 1)\n",
    "        choice_mat = (u .>= u_max)\n",
    "        s = sum( choice_mat, dims = 2)/N\n",
    "    # Maximum Likelihood Estimation\n",
    "        β_0 = ones(Jchar)\n",
    "        optimum = optimize(loglikelihood, β_0)\n",
    "        MLE = optimum.minimum\n",
    "        βhat[ :, i] = optimum.minimizer\n",
    "end\n",
    "βhat"
   ]
  },
  {
   "cell_type": "code",
   "execution_count": 171,
   "metadata": {},
   "outputs": [
    {
     "name": "stdout",
     "output_type": "stream",
     "text": [
      "[5.092496672021896; 1.9994854737567205]\n",
      "[0.460808291415688; 0.5728156849868485]\n"
     ]
    }
   ],
   "source": [
    "println( mean( βhat , dims = 2 ) )\n",
    "println( var( βhat , dims = 2) )"
   ]
  }
 ],
 "metadata": {
  "kernelspec": {
   "display_name": "Julia 1.2.0",
   "language": "julia",
   "name": "julia-1.2"
  },
  "language_info": {
   "file_extension": ".jl",
   "mimetype": "application/julia",
   "name": "julia",
   "version": "1.2.0"
  }
 },
 "nbformat": 4,
 "nbformat_minor": 4
}
