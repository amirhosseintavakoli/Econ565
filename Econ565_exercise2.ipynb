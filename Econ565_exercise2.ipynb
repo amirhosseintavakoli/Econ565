{
 "cells": [
  {
   "cell_type": "markdown",
   "metadata": {},
   "source": [
    "EXERCISE 2: In this exercise I redo the Monte Carlo Simulation of Berry(1994). We have 500 simulated duopoly markets. The utility of each consumer in each market is given by \n",
    "$u_{ij} = \\beta_0 + \\beta_xx_j + \\sigma_d\\xi_j - \\alpha p_j + \\epsilon_{ij}$\n",
    "with $\\epsilon_{ij}$ follow T1EV. The utility of outside good is given by $u_{i0} = \\epsilon_{i0}$ where $\\epsilon_{i0}$ follow the same distribution. Marginal cost is constraint to be positive and is given by \n",
    "$c_j = e^{\\gamma_0 + \\gamma_xx_j+\\sigma_c\\xi_j + \\sigma\\xi_j + \\gamma_ww_j + \\sigma_\\omega\\omega_j }$\n",
    "\n",
    "The firm maximizes the profit function $\\pi_j = p_jx_j - C_j(x_j)$. The first-order condition is\n",
    "$$\n",
    "\\frac{d\\pi_j}{dp_j} = x_j + \\frac{dx_j}{dp_j}p_j - \\frac{dx_j}{dp_j}c_j = 0 \\rightarrow p_j = c_j - \\frac{x_j}{\\frac{dx_j}{dp_j}}\n",
    "$$\n",
    "$$\n",
    "p_j = c_j - \\frac{s_j}{\\frac{ds_j}{dp_j}}\n",
    "$$\n",
    "The FOC in the logit model is \n",
    "$$\n",
    "p_j = c_j + \\frac{1}{\\alpha(1-s_j)}\n",
    "$$\n",
    "% See https://github.com/johnjosephhorton/berry1994/blob/master/berry.R for R code of this practice.\n",
    "\n",
    "% See https://github.com/rkackerman/Industrial-Organization-HW-Example-One for MATLAB code of this pratice. This code has some conceptual mistakes but the way that he codes is very helpful."
   ]
  },
  {
   "cell_type": "code",
   "execution_count": 49,
   "metadata": {},
   "outputs": [],
   "source": [
    "# See the below link for Distribution\n",
    "# https://juliastats.github.io/Distributions.jl/stable/starting/\n",
    "using LinearAlgebra\n",
    "using Random, Distributions\n",
    "using Optim\n",
    "using NLsolve\n",
    "using DataFrames"
   ]
  },
  {
   "cell_type": "code",
   "execution_count": 98,
   "metadata": {},
   "outputs": [
    {
     "data": {
      "text/plain": [
       "3×100 Array{Float64,2}:\n",
       " 0.0  0.0  0.0  0.0  0.0  0.0  0.0  0.0  …  0.0  0.0  0.0  0.0  0.0  0.0  0.0\n",
       " 0.0  0.0  0.0  0.0  0.0  0.0  0.0  0.0     0.0  0.0  0.0  0.0  0.0  0.0  0.0\n",
       " 0.0  0.0  0.0  0.0  0.0  0.0  0.0  0.0     0.0  0.0  0.0  0.0  0.0  0.0  0.0"
      ]
     },
     "execution_count": 98,
     "metadata": {},
     "output_type": "execute_result"
    }
   ],
   "source": [
    "# Parameters\n",
    "\n",
    "J = 2 #Number of products\n",
    "N = 100 #Number of individuals\n",
    "M = 500 #Number of markets\n",
    "Jchar = 1 #Number of product characteristics\n",
    "iter = 100 #Number of iterations\n",
    "β_0 = 5\n",
    "β_x = 2\n",
    "σ_d = 1 # or\n",
    "# σ_d = 3\n",
    "α = 1\n",
    "γ_o = 1\n",
    "γ_x = .5\n",
    "γ_w = .25\n",
    "σ_w = .25\n",
    "σ_c = .25\n",
    "Y = zeros(2*M, 1)\n",
    "X1 = zeros(2*M , 3)\n",
    "β = zeros(3, iter)"
   ]
  },
  {
   "cell_type": "markdown",
   "metadata": {},
   "source": [
    "# Equilibrium Price Functions"
   ]
  },
  {
   "cell_type": "code",
   "execution_count": 131,
   "metadata": {},
   "outputs": [
    {
     "data": {
      "text/plain": [
       "equilibriumPrice_temp (generic function with 2 methods)"
      ]
     },
     "execution_count": 131,
     "metadata": {},
     "output_type": "execute_result"
    }
   ],
   "source": [
    "function equilibriumPrice_temp(price , Variables, ϵ)\n",
    "    # price is equilibrium variable\n",
    "    # I used FOC for the logit model\n",
    "    X = Variables[1,:] \n",
    "    ξ = Variables[2,:]\n",
    "    w = Variables[3,:]\n",
    "    ω = Variables[4,:]\n",
    "    u = [β_0 .+ β_x*X + σ_d*ξ - α*price'; 0] .+ ϵ\n",
    "    u_max = maximum(u, dims = 1)\n",
    "    choice_mat = (u_max .<= u)\n",
    "    s = sum( choice_mat, dims = 2)/N\n",
    "    c = exp.(γ_o .+ γ_x*X + σ_c*ξ + γ_w*w + σ_w*ω) # marginal cost (observed)\n",
    "    equ = price' - c - 1 ./ ( α*(1 .- s[1:2]) )\n",
    "    return equ\n",
    "end"
   ]
  },
  {
   "cell_type": "markdown",
   "metadata": {},
   "source": [
    "# Data Generating Process Function"
   ]
  },
  {
   "cell_type": "code",
   "execution_count": 132,
   "metadata": {},
   "outputs": [
    {
     "data": {
      "text/plain": [
       "dgp (generic function with 1 method)"
      ]
     },
     "execution_count": 132,
     "metadata": {},
     "output_type": "execute_result"
    }
   ],
   "source": [
    "# Data Generating Process dgp\n",
    "# This function is used to generate the observed data\n",
    "# Observed data: p (prices), X(characteristics), c(marginal cost), s(market share), w(input characteristics)\n",
    "function dgp(i)\n",
    "    # Variables\n",
    "    d1 = Normal()\n",
    "    Random.seed!(100 + i) #Setting the seed\n",
    "    Variables = rand(d1, 4, J)\n",
    "    X = Variables[1,:] \n",
    "    ξ = Variables[2,:]\n",
    "    w = Variables[3,:]\n",
    "    ω = Variables[4,:]\n",
    "    d2 = Gumbel()\n",
    "    Random.seed!(200 + i) #Setting the seed\n",
    "    ϵ = rand(d2 , J+1 , N) # error term\n",
    "    equilibriumPrice(price) = equilibriumPrice_temp(price, Variables, ϵ )\n",
    "    # Find the equilibrium prices\n",
    "    initial_p = [.1  .1]\n",
    "    solution = nlsolve( equilibriumPrice, initial_p)\n",
    "    p = solution.zero'\n",
    "    u = [β_0 .+ β_x*X + σ_d*ξ - α*p; 0] .+ ϵ\n",
    "    u_max = maximum(u, dims = 1)\n",
    "    choice_mat = (u_max .<= u)\n",
    "    s = sum( choice_mat, dims = 2)/N\n",
    "    c = exp.(γ_o .+ γ_x*X + σ_c*ξ + γ_w*w + σ_w*ω)\n",
    "    return X, w, p, c, s\n",
    "end"
   ]
  },
  {
   "cell_type": "markdown",
   "metadata": {},
   "source": [
    "# OLS Function"
   ]
  },
  {
   "cell_type": "code",
   "execution_count": 125,
   "metadata": {},
   "outputs": [
    {
     "data": {
      "text/plain": [
       "OLS (generic function with 1 method)"
      ]
     },
     "execution_count": 125,
     "metadata": {},
     "output_type": "execute_result"
    }
   ],
   "source": [
    "function OLS(Y , X)\n",
    "    \n",
    "    #if rank( X'*X ) == 3\n",
    "        β = ( (X'*X)^(-1) ) * X'*Y\n",
    "        return β\n",
    "    #end\n",
    "    #return [0 ; 0 ; 0]\n",
    "#    var_β = ...\n",
    "end"
   ]
  },
  {
   "cell_type": "markdown",
   "metadata": {},
   "source": [
    "First I regress $\\delta_j = ln(s_j) - ln(s_0)$ on $x_j$ and $p_j$ without regard to the endogeneity of prices."
   ]
  },
  {
   "cell_type": "code",
   "execution_count": 134,
   "metadata": {},
   "outputs": [],
   "source": [
    "Y = zeros(2*M, 1)\n",
    "X1 = zeros(2*M , 3)\n",
    "\n",
    "for m in 1:2\n",
    "    X, w, p , c, s = dgp(m)\n",
    "    y = log.(s[1:2]) .- log( s[3] )\n",
    "    x1 = [ones(J) X p ]\n",
    "    Y[2*m-1:2*m,:] = y\n",
    "    X1[2*m-1:2*m,:] = x1\n",
    "end\n",
    "#β\n",
    "#    if rank( X1 ) == 3\n",
    "#        β[:, counter] = OLS(Y , X1)\n",
    "#        counter = counter + 1\n",
    "#    end\n",
    "#    i = i + 1\n",
    "#end\n",
    "#sum(β , dims = 2)/iter"
   ]
  },
  {
   "cell_type": "code",
   "execution_count": 135,
   "metadata": {},
   "outputs": [
    {
     "data": {
      "text/plain": [
       "1000×3 Array{Float64,2}:\n",
       " 1.0  -0.176283   7.09404\n",
       " 1.0   1.09946    4.91987\n",
       " 1.0  -0.0645184  2.62269\n",
       " 1.0   0.660184   5.94125\n",
       " 0.0   0.0        0.0    \n",
       " 0.0   0.0        0.0    \n",
       " 0.0   0.0        0.0    \n",
       " 0.0   0.0        0.0    \n",
       " 0.0   0.0        0.0    \n",
       " 0.0   0.0        0.0    \n",
       " 0.0   0.0        0.0    \n",
       " 0.0   0.0        0.0    \n",
       " 0.0   0.0        0.0    \n",
       " ⋮                       \n",
       " 0.0   0.0        0.0    \n",
       " 0.0   0.0        0.0    \n",
       " 0.0   0.0        0.0    \n",
       " 0.0   0.0        0.0    \n",
       " 0.0   0.0        0.0    \n",
       " 0.0   0.0        0.0    \n",
       " 0.0   0.0        0.0    \n",
       " 0.0   0.0        0.0    \n",
       " 0.0   0.0        0.0    \n",
       " 0.0   0.0        0.0    \n",
       " 0.0   0.0        0.0    \n",
       " 0.0   0.0        0.0    "
      ]
     },
     "execution_count": 135,
     "metadata": {},
     "output_type": "execute_result"
    }
   ],
   "source": [
    "X1"
   ]
  },
  {
   "cell_type": "code",
   "execution_count": 118,
   "metadata": {},
   "outputs": [
    {
     "data": {
      "text/plain": [
       "3×1 Array{Float64,2}:\n",
       "  1.6905616365712077\n",
       "  0.822960432767249 \n",
       " -0.4168404155969046"
      ]
     },
     "execution_count": 118,
     "metadata": {},
     "output_type": "execute_result"
    }
   ],
   "source": [
    "OLS(Y, X1)"
   ]
  },
  {
   "cell_type": "code",
   "execution_count": 8,
   "metadata": {},
   "outputs": [
    {
     "ename": "UndefVarError",
     "evalue": "UndefVarError: X not defined",
     "output_type": "error",
     "traceback": [
      "UndefVarError: X not defined",
      "",
      "Stacktrace:",
      " [1] equilibriumPrice(::Array{Float64,2}) at ./In[5]:41",
      " [2] (::getfield(NLSolversBase, Symbol(\"#ff!#1\")){typeof(equilibriumPrice)})(::Array{Float64,2}, ::Array{Float64,2}) at /opt/julia/packages/NLSolversBase/IYQyv/src/objective_types/inplace_factory.jl:11",
      " [3] (::getfield(NLSolversBase, Symbol(\"#fj_finitediff!#21\")){getfield(NLSolversBase, Symbol(\"#ff!#1\")){typeof(equilibriumPrice)},DiffEqDiffTools.JacobianCache{Array{Float64,2},Array{Float64,2},Array{Float64,2},UnitRange{Int64},Nothing,Val{:central},Float64,Val{true}}})(::Array{Float64,2}, ::Array{Float64,2}, ::Array{Float64,2}) at /opt/julia/packages/NLSolversBase/IYQyv/src/objective_types/oncedifferentiable.jl:137",
      " [4] value_jacobian!!(::OnceDifferentiable{Array{Float64,2},Array{Float64,2},Array{Float64,2}}, ::Array{Float64,2}, ::Array{Float64,2}, ::Array{Float64,2}) at /opt/julia/packages/NLSolversBase/IYQyv/src/interface.jl:124",
      " [5] value_jacobian!! at /opt/julia/packages/NLSolversBase/IYQyv/src/interface.jl:122 [inlined]",
      " [6] trust_region_(::OnceDifferentiable{Array{Float64,2},Array{Float64,2},Array{Float64,2}}, ::Array{Float64,2}, ::Float64, ::Float64, ::Int64, ::Bool, ::Bool, ::Bool, ::Float64, ::Bool, ::NLsolve.NewtonTrustRegionCache{Array{Float64,2}}) at /opt/julia/packages/NLsolve/ltuKE/src/solvers/trust_region.jl:119",
      " [7] trust_region at /opt/julia/packages/NLsolve/ltuKE/src/solvers/trust_region.jl:229 [inlined] (repeats 2 times)",
      " [8] #nlsolve#23(::Symbol, ::Float64, ::Float64, ::Int64, ::Bool, ::Bool, ::Bool, ::Static, ::getfield(NLsolve, Symbol(\"##29#31\")), ::Float64, ::Bool, ::Int64, ::Float64, ::typeof(nlsolve), ::OnceDifferentiable{Array{Float64,2},Array{Float64,2},Array{Float64,2}}, ::Array{Float64,2}) at /opt/julia/packages/NLsolve/ltuKE/src/nlsolve/nlsolve.jl:24",
      " [9] (::getfield(NLsolve, Symbol(\"#kw##nlsolve\")))(::NamedTuple{(:method, :xtol, :ftol, :iterations, :store_trace, :show_trace, :extended_trace, :linesearch, :factor, :autoscale, :m, :beta, :linsolve),Tuple{Symbol,Float64,Float64,Int64,Bool,Bool,Bool,Static,Float64,Bool,Int64,Float64,getfield(NLsolve, Symbol(\"##29#31\"))}}, ::typeof(nlsolve), ::OnceDifferentiable{Array{Float64,2},Array{Float64,2},Array{Float64,2}}, ::Array{Float64,2}) at ./none:0",
      " [10] #nlsolve#28(::Symbol, ::Float64, ::Float64, ::Int64, ::Bool, ::Bool, ::Bool, ::Static, ::Float64, ::Bool, ::Int64, ::Float64, ::Symbol, ::getfield(NLsolve, Symbol(\"##29#31\")), ::Bool, ::typeof(nlsolve), ::typeof(equilibriumPrice), ::Array{Float64,2}) at /opt/julia/packages/NLsolve/ltuKE/src/nlsolve/nlsolve.jl:69",
      " [11] nlsolve(::Function, ::Array{Float64,2}) at /opt/julia/packages/NLsolve/ltuKE/src/nlsolve/nlsolve.jl:55",
      " [12] dgp(::Int64) at ./In[5]:17",
      " [13] top-level scope at ./In[8]:5"
     ]
    }
   ],
   "source": [
    "#= βhat = zeros(Jchar, iter)\n",
    "for i in 1:iter\n",
    "    \n",
    "# Computing Share of Products\n",
    "        X = dgp(i)\n",
    "        δ = X*β\n",
    "        d_2 = Gumbel() # or we can use d = Normal()\n",
    "        Random.seed!(101 + i) #Setting the seed\n",
    "        ϵ = rand(d_2, J , N)\n",
    "        u = δ .+ ϵ\n",
    "        u_max, ind = findmax(u, dims = 1)\n",
    "        choice_mat = (u .>= u_max)\n",
    "        s = sum( choice_mat, dims = 2)/N\n",
    "    # Maximum Likelihood Estimation\n",
    "        β_0 = ones(Jchar)\n",
    "        optimum = optimize(loglikelihood, β_0)\n",
    "        MLE = optimum.minimum\n",
    "        βhat[ :, i] = optimum.minimizer\n",
    "end\n",
    "βhat\n",
    "=#"
   ]
  },
  {
   "cell_type": "code",
   "execution_count": 9,
   "metadata": {},
   "outputs": [
    {
     "name": "stdout",
     "output_type": "stream",
     "text": [
      "[0.0]\n",
      "[0.0]\n"
     ]
    }
   ],
   "source": [
    "println( mean( βhat , dims = 2 ) )\n",
    "println( var( βhat , dims = 2) )"
   ]
  }
 ],
 "metadata": {
  "kernelspec": {
   "display_name": "Julia 1.2.0",
   "language": "julia",
   "name": "julia-1.2"
  },
  "language_info": {
   "file_extension": ".jl",
   "mimetype": "application/julia",
   "name": "julia",
   "version": "1.2.0"
  }
 },
 "nbformat": 4,
 "nbformat_minor": 4
}
